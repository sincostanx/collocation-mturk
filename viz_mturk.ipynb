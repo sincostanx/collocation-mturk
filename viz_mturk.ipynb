{
 "cells": [
  {
   "cell_type": "code",
   "execution_count": 3,
   "metadata": {},
   "outputs": [],
   "source": [
    "import base64\n",
    "from PIL import Image\n",
    "from io import BytesIO\n",
    "\n",
    "# Your base64 encoded PNG data\n",
    "png_data = \"iVBORw0KGgoAAAANSUhEUgAABAAAAAQAAQMAAABF07nAAAAAAXNSR0IB2cksfwAAAAZQTFRFAAAALKAsCO/WQQAAAAJ0Uk5TAP9bkSK1AAADCUlEQVR4nO3VwW3cMBCGUS988NElqBSWxtKZS+Ik1molijNkgLzXwP8dBpi3NwAAAAAAAAAAAAAAAAAAAAAAAAAAAAAAAAAAAAAAAAAAAAAAAAAAAAAAAAAAAAAAAAAAAAAAAAAAAAAAAAAAAAAAAAAAAAAAAAAAAAAAAAAAANZ6LN5/b2v3P9ragK2tDShtbUBtSwMerS0NeG9rAz7a2oDPtjagtLUBta0NaG1pwHtbG/DR1gZ8ft+fHLDt9ucG1P3+1IAn8zMDHk/35wXszn9ywP785wY8Of+pAc/Of2bA8fyUgIPznxbw/fvMDjg8/0kB28l+dkA5208OOJ3PDXh9/vkBJ+efHnD0fWYFbNf20wLKxf2sgHp1Pyfg0vknBlw7/7yAi+efFnD2fbIDSt9+eEDt3I8O6J0PDug6/4SAvvOPD+g8//CA7dZ+XEC9tx8WcHM+KqDn+2QE3Dr/wIB75x8XsI3sBwTUof3xgLH54YCB8w8JuPN9IgOGzj8gYAvYHwkoEfsDASHz9wPGz38sIOD8hwJGvk9EwBa3fyugBO7fCaiR+/0BYed/MyDu/O8FBJ7/rYCI7zMSUOL3uwJqwn5PQMZ8R0D4+XcGxJ9/X0DC+XcFlLT9awE1b/9SQOL8lYDo79MbkHb+FwPyzv9awJa9fxJQ0/dfB+TPvwxIPv/TgKzvczUg/fxPArZJ+0cBZdb+QcC0+ecBc87/OGDS+R8GZH+fs4Bt7v4uoEze/x5QZ+//HTD1/J8EzD3/fcDk898FzPo+RwFlzf5XQF20/ytg1fzPgCXn/0fAmvP/HbDo/L8CytL9tnpfgAABAgQIECBAgAABAgQIECBAgAABAgQIECBAgAABAgQIECBAgAABAgQIECBAgAABAgQIECBAgAABAgQIECBAgAAB/0BAFSBAgAABAgQIECBAgAABAgQIECBAgAABAgQIECBAgAABAgQIECBAgAABAgQIECBAgAABAgQIECBAgAABAgQIECBAgAABAgQIEPDfByzeFyBAgAAB6wN+ABuG6TVx8NsoAAAAAElFTkSuQmCC\"\n",
    "\n",
    "# Decode the base64 string\n",
    "decoded_data = base64.b64decode(png_data)\n",
    "\n",
    "# Convert the binary data to an image\n",
    "image = Image.open(BytesIO(decoded_data))\n",
    "\n",
    "# Display the image\n",
    "# image.show()\n",
    "\n",
    "# Optional: Save the image to a file\n",
    "image.save(\"decoded_image.png\")"
   ]
  },
  {
   "cell_type": "code",
   "execution_count": 4,
   "metadata": {},
   "outputs": [],
   "source": [
    "import base64\n",
    "from PIL import Image\n",
    "from io import BytesIO\n",
    "\n",
    "# Your base64 encoded PNG data\n",
    "png_data = \"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\"\n",
    "\n",
    "# Decode the base64 string\n",
    "decoded_data = base64.b64decode(png_data)\n",
    "\n",
    "# Convert the binary data to an image\n",
    "image = Image.open(BytesIO(decoded_data))\n",
    "\n",
    "# Display the image\n",
    "# image.show()\n",
    "\n",
    "# Optional: Save the image to a file\n",
    "image.save(\"decoded_image.png\")"
   ]
  },
  {
   "cell_type": "code",
   "execution_count": 10,
   "metadata": {},
   "outputs": [
    {
     "data": {
      "image/png": "[encoded data removed]",
      "text/plain": [
       "<PIL.Image.Image image mode=L size=512x512>"
      ]
     },
     "execution_count": 10,
     "metadata": {},
     "output_type": "execute_result"
    }
   ],
   "source": [
    "import numpy as np\n",
    "\n",
    "x = np.array(image)\n",
    "Image.fromarray(255 * x).resize((512, 512))"
   ]
  },
  {
   "cell_type": "code",
   "execution_count": 2,
   "metadata": {},
   "outputs": [],
   "source": [
    "import base64\n",
    "from PIL import Image\n",
    "from io import BytesIO\n",
    "import numpy as np\n",
    "\n",
    "# Your base64 encoded PNG data\n",
    "png_data = \"iVBORw0KGgoAAAANSUhEUgAABAAAAAQAAQMAAABF07nAAAAAAXNSR0IB2cksfwAAAAZQTFRFAAAALKAsCO/WQQAAAAJ0Uk5TAP9bkSK1AAAI9klEQVR4nO3dsZLbNhDG8eMwMyyZMh1ewx0eDXw0ZvIi6lLGpYtMGN/5pCNPJLAEsVgd9f8qjw0CP1nAipJI6OWFEEIIIYQQQgghhBBCyNfNb8bjt//ajt9MxoDJGBCMAX6yBbjJFtC/jj/9ZzZ+N9kC2skW0EzGgMkYEIwBfrIFuMkW0E/z1B+/m2wB7WQLaCZjwOfxawOCMeB+/LoAfz9+VYBbGX8a6o3fr41fEdCtjl8P8LkA1QbcFaDagK3xawGCMcBvjl8H4LbHn8YK468XgHqAjQJQDbBVAGoBNgtALUBifHVAMAb41PjKAJccf7pojh8tABUA8QKgD0gUAHVAqgBoA4Tj6wGE46sBnDVAtAJe810JIFsCigDxHFADBGuAswZIXgdUAdJloAaQVkI1gHQZ/FADeGuAswYIZ6EeQFiM9QDCZaAHEBZjRYBXB3yL/7OsGGd+c9kL8LJlsB/wMbkSANky2AdYPqjU06cAWD6oFCBYA5w1QLQMNAGiWagJEBXjfd9c7gOIloEqwFsDnDVAUoz3AZbTKgmQLANVgGQW6gKCNcAL/gtUAZJirAqQLANVgKQYqwIky0AX4AsDlo9IAHDWAMEy0AUIivGgChAsA12AoBgrA7w1ID0LlQHpYqwMSC+DfYCwF5AuxtqAsD7sR0ZlgLMGJJeBNiA5C7UByWKsDSh8AUEGwFsDXAJw2QVYPBwZIFWM1QGpZaAOSC0DdUCqGOsD/PrA9QCJYqwPSCwDfUBiFu774jAHkCjG+wAuBxCsAW595HqA+DKoAIgX4wqA+DKoAIjPwhoAHwPs++IwD+DWh64HiBbjfYA+69DoMqgBiBbjKoBgDXDWgFgxrgKILYN9XxxmAmLFeKgBiCyDy67xswG+zBOQD3BbgJ3jL2fTDsDWLLzUAmwU4/2X0OQC1pdBxj2/uYD1YjxWBPiV8XOuZcwGrBTjrJuuswEry2CoCrifhZec8fMBd8U48xqyNhsQPgHyxj8AcCWegCOA5TLIvoowH7A4Mn/bg3zAYhmMBoD5MjhwOfcBgC/wBBwCfCyDwQZwq2GXA+Mvp9I+wNV+bAOgA4DrLDw0/iFAOP4EHAP4jGOKAvqDK/Aw4HUZjJaApsQdLUcAL2W23jkA8EMJwKykWu0p1lkDbhPBcFc1bw34dYZnurNeaw2w39zw53q0BpjvsEkIIYQQQgghhBBCCCGEEEIIIYQQQgghhBBCCCGEEEIIIYQQQgghhMyi99vZYsBWimw9AgAAAAAAAAA4Aqi0Yw8AAAAAAAAAAAAAAAAAAAAAAAAAAAAAAAAAAAAAAAAAAAAAAAAAAAAAAAAAAAAAAAAAAAAAAAAAAAAAAAAAAAAAAACeEfCHNeCbNeCHMaC1BnTWAGcN8NaAyRjQWgM6a4CzBgRrwFQI8Hvm+G0pgBvzAN3njnMBfsoDuHKAvDkSygGm7zmAu45zAT8fSc6ebm1RwDTsBvTFAG9N9u+X48oCPi1pQUJhwO5pcN9xJqC5thp2jd+WB+ybBuUArfCZqgDYVY9UANNoAejmLc0B8mnQFQP0i6biaaAFENejN8By5ZYBSOtROYD71FhYj/QAwpelcgB/1/xiDRBNg14TIJkG5QBh7wE1AIJpUA6wegSAMQlwpQDN6hHPBGhXjxgA1AN0q0ckx39/ETUE+D2A2Cv85xOitwhejQAUA7i1AwQvx+cB+IcECE6Mw2kA4SEBgreoxQCrBwC4pAFTIcD6GdnXAQyHAesnRCOAeoBZZtNhSDbWAMw6SAMaDUC4HZBuqwLw1gD3MADBOakK4HaCbAW4vUkSAFoNwK0oCc5JVQC3SmQFuPVgBgjy9joA//UAY1mAe28vOCftVADXSmQGuFYiM8C1El2sANdKZAa4djEmG2oBgjXAiwG9KmAwAzhrQG8NeJ9acurpAK0Y4DQBkm9uzwpo9gIuKgDJpTQAVAGS5v7UAMnVVABUAZdkuwcAhFMDRgDWgOELARYloypg0gRIWioBWgCvrUWX1QLQBEjOSZtTAyStnwMwWAGunT40oD014PKVAIueTwMYAfz6cxMDdEqAt34HANaAl2cHXE8Jo4D+GQAtAAAPDXDvPS/exAAoDOgAPCWglwI8AAAVAP1DAwIAAO89Lz5XBlAY4GKA6cyA67tjAM8JcF8FsL6VWGGABwDgkQEf92kCODMgAHhkwMf+MQAAFAb4WZ+xi+rMAR9b+AA4JWDYA5g3AlAW0MQADgAAANYA/wyAFoAJIHwVQHgcwAhADdCdCiDekv/LAD66BgBAD9A/MmC2kaAewFkDvDUgWANit57OAJeygOkGaKwBrTWgiwFme4tqAMbXP/XWAGcN8NaAYA2YjAGNNaCNAma/eaAF6KwBvTXAWQO8NSBYA6YoYPazE0qARgyYd10Q0FoD5vcd1gTcdoLprQHOGuCtASEOcOqAyRiQ2hNHHdBZA3prgLMGeGtASAC8NmAyBqxtjF8VsLYneVVAtwMw/yC+GCC5Z682wKUAQRngrQHBDPBr+o+TMeBPa8Bf1oC/rQH/JAGzrjUA1wAA8LiA+W+hAZjfdgsAQDXAvNnJAMvfPgYA4HEB82YAAMxvu30ewPyn0gEAAGACcGqAfnEUAACPC/AA5q0AALAABAAAAKgBnAywaHUuwLILC8BiElgAFvPLBDB/ayIDDBt/nwmYv9JtAZpF36UB7WrXFQEbWwtUBDRrXdcEfCxFK8DLStd1Ad1913UB12q0Bdj8ZqkYIHExmz4gcUlnBUD8st4KgPjF7TUA0TssqgBi9xlVAcRudtv8NLEoIHLL5xIwKgEi9x1XAmxvhlMJsL1veS3A5i+7VQNsZfkGDgAAAAYABwDAYwEu9QEeAAAA1oAAAAAAa8CybwDft/4BwHkBzWbfAB4YcAFwKsDy03oAAOwBs7teKwGWn9YbALYDAAAAAAAAAAAAAAAAAAAAAAAAAAAAAAAAAAAAAAAAAAAAAAAAAAAAAAAAAAAAAAAAAAAAAAAAAAAAAAAAAAAAAAAAAAAAAAAAAAAAAAAAAACwDRgBALAGDACeA/A/rcXGDkr5KkoAAAAASUVORK5CYII=\"\n",
    "\n",
    "# Decode the base64 string\n",
    "decoded_data = base64.b64decode(png_data)\n",
    "\n",
    "# Convert the binary data to an image\n",
    "image = Image.open(BytesIO(decoded_data))\n",
    "\n",
    "# Display the image\n",
    "# image.show()\n",
    "\n",
    "# Optional: Save the image to a file\n",
    "x = np.array(image)\n",
    "Image.fromarray(255 * x).save(\"test_mask.png\")"
   ]
  },
  {
   "cell_type": "code",
   "execution_count": 4,
   "metadata": {},
   "outputs": [
    {
     "name": "stderr",
     "output_type": "stream",
     "text": [
      "/tmp/ipykernel_312066/2332485002.py:8: DeprecationWarning: ANTIALIAS is deprecated and will be removed in Pillow 10 (2023-07-01). Use Resampling.LANCZOS instead.\n",
      "  mask = mask.resize(image.size, Image.ANTIALIAS)\n"
     ]
    },
    {
     "ename": "TypeError",
     "evalue": "color must be int or single-element tuple",
     "output_type": "error",
     "traceback": [
      "\u001b[0;31m---------------------------------------------------------------------------\u001b[0m",
      "\u001b[0;31mTypeError\u001b[0m                                 Traceback (most recent call last)",
      "Cell \u001b[0;32mIn[4], line 20\u001b[0m\n\u001b[1;32m     17\u001b[0m green_color \u001b[38;5;241m=\u001b[39m (\u001b[38;5;241m0\u001b[39m, \u001b[38;5;241m255\u001b[39m, \u001b[38;5;241m0\u001b[39m, \u001b[38;5;241m128\u001b[39m)  \u001b[38;5;66;03m# RGBA format: (R, G, B, A), where A is the alpha channel (transparency)\u001b[39;00m\n\u001b[1;32m     19\u001b[0m \u001b[38;5;66;03m# Apply the mask by blending with transparent green color\u001b[39;00m\n\u001b[0;32m---> 20\u001b[0m \u001b[43moverlay\u001b[49m\u001b[38;5;241;43m.\u001b[39;49m\u001b[43mpaste\u001b[49m\u001b[43m(\u001b[49m\u001b[43mgreen_color\u001b[49m\u001b[43m,\u001b[49m\u001b[43m \u001b[49m\u001b[43mmask\u001b[49m\u001b[38;5;241;43m=\u001b[39;49m\u001b[43mmask_rgba\u001b[49m\u001b[43m)\u001b[49m\n\u001b[1;32m     22\u001b[0m overlay\n",
      "File \u001b[0;32m/data2/worameth/DiffSpatial2/envs/diff-spatial/lib/python3.10/site-packages/PIL/Image.py:1664\u001b[0m, in \u001b[0;36mImage.paste\u001b[0;34m(self, im, box, mask)\u001b[0m\n\u001b[1;32m   1662\u001b[0m \u001b[38;5;28;01mif\u001b[39;00m mask:\n\u001b[1;32m   1663\u001b[0m     mask\u001b[38;5;241m.\u001b[39mload()\n\u001b[0;32m-> 1664\u001b[0m     \u001b[38;5;28;43mself\u001b[39;49m\u001b[38;5;241;43m.\u001b[39;49m\u001b[43mim\u001b[49m\u001b[38;5;241;43m.\u001b[39;49m\u001b[43mpaste\u001b[49m\u001b[43m(\u001b[49m\u001b[43mim\u001b[49m\u001b[43m,\u001b[49m\u001b[43m \u001b[49m\u001b[43mbox\u001b[49m\u001b[43m,\u001b[49m\u001b[43m \u001b[49m\u001b[43mmask\u001b[49m\u001b[38;5;241;43m.\u001b[39;49m\u001b[43mim\u001b[49m\u001b[43m)\u001b[49m\n\u001b[1;32m   1665\u001b[0m \u001b[38;5;28;01melse\u001b[39;00m:\n\u001b[1;32m   1666\u001b[0m     \u001b[38;5;28mself\u001b[39m\u001b[38;5;241m.\u001b[39mim\u001b[38;5;241m.\u001b[39mpaste(im, box)\n",
      "\u001b[0;31mTypeError\u001b[0m: color must be int or single-element tuple"
     ]
    }
   ],
   "source": [
    "image_path = '../dataset/rev1/abandon_factory_0001_Background.png'\n",
    "mask_path = 'test_mask.png'\n",
    "\n",
    "image = Image.open(image_path)\n",
    "mask = Image.open(mask_path)\n",
    "\n",
    "# Ensure mask and image are of the same size\n",
    "mask = mask.resize(image.size, Image.ANTIALIAS)\n",
    "\n",
    "# Create a copy of the original image for overlay\n",
    "overlay = image.copy()\n",
    "\n",
    "# Convert mask to RGBA mode (adding an alpha channel)\n",
    "mask_rgba = mask.convert('RGBA')\n",
    "\n",
    "# Create a transparent green color\n",
    "green_color = (0, 255, 0, 128)  # RGBA format: (R, G, B, A), where A is the alpha channel (transparency)\n",
    "\n",
    "# Apply the mask by blending with transparent green color\n",
    "overlay.paste(green_color, mask=mask_rgba)\n",
    "\n",
    "overlay"
   ]
  }
 ],
 "metadata": {
  "kernelspec": {
   "display_name": "diff-spatial",
   "language": "python",
   "name": "python3"
  },
  "language_info": {
   "codemirror_mode": {
    "name": "ipython",
    "version": 3
   },
   "file_extension": ".py",
   "mimetype": "text/x-python",
   "name": "python",
   "nbconvert_exporter": "python",
   "pygments_lexer": "ipython3",
   "version": "3.10.12"
  }
 },
 "nbformat": 4,
 "nbformat_minor": 2
}
