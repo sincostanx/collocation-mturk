{
 "cells": [
  {
   "cell_type": "code",
   "execution_count": 1,
   "metadata": {},
   "outputs": [],
   "source": [
    "%load_ext autoreload\n",
    "%autoreload 2"
   ]
  },
  {
   "cell_type": "code",
   "execution_count": 2,
   "metadata": {},
   "outputs": [],
   "source": [
    "import json\n",
    "from PIL import Image\n",
    "import pandas as pd\n",
    "from utils import image_grid\n",
    "import inflect\n",
    "from nltk.corpus import words\n",
    "import zipfile\n",
    "import os\n",
    "from pathlib import Path\n",
    "import numpy as np\n",
    "import itertools\n",
    "os.environ['OPENAI_API_KEY'] = 'sk-proj-gECJbZO1y4sk3NoUB1SbT3BlbkFJ5QdYttqNjmS1hSsGQIJY'\n",
    "from openai import OpenAI"
   ]
  },
  {
   "cell_type": "markdown",
   "metadata": {},
   "source": [
    "## retrieve"
   ]
  },
  {
   "cell_type": "code",
   "execution_count": 3,
   "metadata": {},
   "outputs": [
    {
     "data": {
      "text/plain": [
       "Batch(id='batch_YXN08eUOrrXROdAUhdmuCP8M', completion_window='24h', created_at=1723525608, endpoint='/v1/chat/completions', input_file_id='file-f1RzRtzL0KpZjf0XEdai0dsl', object='batch', status='completed', cancelled_at=None, cancelling_at=None, completed_at=1723525617, error_file_id=None, errors=None, expired_at=None, expires_at=1723612008, failed_at=None, finalizing_at=1723525616, in_progress_at=1723525609, metadata={'description': 'new_selected_dataset_all'}, output_file_id='file-ieiMvL9AHZwAtpTvwppiJxGp', request_counts=BatchRequestCounts(completed=30, failed=0, total=30))"
      ]
     },
     "execution_count": 3,
     "metadata": {},
     "output_type": "execute_result"
    }
   ],
   "source": [
    "client = OpenAI()\n",
    "client.batches.retrieve('batch_YXN08eUOrrXROdAUhdmuCP8M')"
   ]
  },
  {
   "cell_type": "code",
   "execution_count": 4,
   "metadata": {},
   "outputs": [],
   "source": [
    "output_file_id = client.batches.retrieve('batch_YXN08eUOrrXROdAUhdmuCP8M').output_file_id\n",
    "content = client.files.content(output_file_id)\n",
    "\n",
    "output_file_path = \"new_dataset/output/test_0_30_add.jsonl\"\n",
    "\n",
    "with open(output_file_path, 'w') as f:\n",
    "    f.write(content.content.decode(\"utf-8\"))"
   ]
  },
  {
   "cell_type": "markdown",
   "metadata": {},
   "source": [
    "## process"
   ]
  },
  {
   "cell_type": "code",
   "execution_count": 16,
   "metadata": {},
   "outputs": [],
   "source": [
    "def extract_data(outputs):\n",
    "    df = []\n",
    "    for output in outputs:\n",
    "        df.append({\n",
    "            \"id\": output[\"id\"],\n",
    "            \"custom_id\": output[\"custom_id\"],\n",
    "            \"status_code\": output[\"response\"][\"status_code\"],\n",
    "            \"model\": output[\"response\"][\"body\"][\"model\"],\n",
    "            \"prompt_tokens\": output[\"response\"][\"body\"][\"usage\"][\"prompt_tokens\"],\n",
    "            \"completion_tokens\": output[\"response\"][\"body\"][\"usage\"][\"completion_tokens\"],\n",
    "            \"answer\": output[\"response\"][\"body\"][\"choices\"][0][\"message\"][\"content\"],\n",
    "        })\n",
    "\n",
    "    return pd.DataFrame(df)"
   ]
  },
  {
   "cell_type": "code",
   "execution_count": 17,
   "metadata": {},
   "outputs": [
    {
     "data": {
      "text/html": [
       "<div>\n",
       "<style scoped>\n",
       "    .dataframe tbody tr th:only-of-type {\n",
       "        vertical-align: middle;\n",
       "    }\n",
       "\n",
       "    .dataframe tbody tr th {\n",
       "        vertical-align: top;\n",
       "    }\n",
       "\n",
       "    .dataframe thead th {\n",
       "        text-align: right;\n",
       "    }\n",
       "</style>\n",
       "<table border=\"1\" class=\"dataframe\">\n",
       "  <thead>\n",
       "    <tr style=\"text-align: right;\">\n",
       "      <th></th>\n",
       "      <th>id</th>\n",
       "      <th>custom_id</th>\n",
       "      <th>status_code</th>\n",
       "      <th>model</th>\n",
       "      <th>prompt_tokens</th>\n",
       "      <th>completion_tokens</th>\n",
       "      <th>answer</th>\n",
       "    </tr>\n",
       "  </thead>\n",
       "  <tbody>\n",
       "    <tr>\n",
       "      <th>0</th>\n",
       "      <td>batch_req_MD1a7KMpzBVGHrZrHJgLRwUb</td>\n",
       "      <td>0</td>\n",
       "      <td>200</td>\n",
       "      <td>gpt-4o-2024-05-13</td>\n",
       "      <td>887</td>\n",
       "      <td>10</td>\n",
       "      <td>birds, airplane, fireworks, kite, moon.</td>\n",
       "    </tr>\n",
       "    <tr>\n",
       "      <th>1</th>\n",
       "      <td>batch_req_S7ppgbwLxWGmCJnxXi2WMlsZ</td>\n",
       "      <td>1</td>\n",
       "      <td>200</td>\n",
       "      <td>gpt-4o-2024-05-13</td>\n",
       "      <td>887</td>\n",
       "      <td>12</td>\n",
       "      <td>Butterfly, sunglasses, bird, small flower, but...</td>\n",
       "    </tr>\n",
       "  </tbody>\n",
       "</table>\n",
       "</div>"
      ],
      "text/plain": [
       "                                   id custom_id  status_code  \\\n",
       "0  batch_req_MD1a7KMpzBVGHrZrHJgLRwUb         0          200   \n",
       "1  batch_req_S7ppgbwLxWGmCJnxXi2WMlsZ         1          200   \n",
       "\n",
       "               model  prompt_tokens  completion_tokens  \\\n",
       "0  gpt-4o-2024-05-13            887                 10   \n",
       "1  gpt-4o-2024-05-13            887                 12   \n",
       "\n",
       "                                              answer  \n",
       "0            birds, airplane, fireworks, kite, moon.  \n",
       "1  Butterfly, sunglasses, bird, small flower, but...  "
      ]
     },
     "execution_count": 17,
     "metadata": {},
     "output_type": "execute_result"
    }
   ],
   "source": [
    "paths = [\n",
    "    # \"new_dataset/output/test_0_30_select.jsonl\",\n",
    "    # \"new_dataset/output/test_0_30_add.jsonl\",\n",
    "    \"new_dataset/output/test_0_30_add_ver2.jsonl\",\n",
    "]\n",
    "outputs = []\n",
    "for path in paths:\n",
    "    outputs += ([json.loads(i) for i in open(path).readlines()])\n",
    "\n",
    "df = extract_data(outputs)\n",
    "df.head(2)"
   ]
  },
  {
   "cell_type": "code",
   "execution_count": 18,
   "metadata": {},
   "outputs": [
    {
     "data": {
      "text/html": [
       "<div>\n",
       "<style scoped>\n",
       "    .dataframe tbody tr th:only-of-type {\n",
       "        vertical-align: middle;\n",
       "    }\n",
       "\n",
       "    .dataframe tbody tr th {\n",
       "        vertical-align: top;\n",
       "    }\n",
       "\n",
       "    .dataframe thead th {\n",
       "        text-align: right;\n",
       "    }\n",
       "</style>\n",
       "<table border=\"1\" class=\"dataframe\">\n",
       "  <thead>\n",
       "    <tr style=\"text-align: right;\">\n",
       "      <th></th>\n",
       "      <th>custom_id</th>\n",
       "      <th>img_path</th>\n",
       "      <th>source</th>\n",
       "      <th>id</th>\n",
       "      <th>custom_id</th>\n",
       "      <th>status_code</th>\n",
       "      <th>model</th>\n",
       "      <th>prompt_tokens</th>\n",
       "      <th>completion_tokens</th>\n",
       "      <th>answer</th>\n",
       "      <th>answer_0</th>\n",
       "      <th>answer_1</th>\n",
       "      <th>answer_2</th>\n",
       "      <th>answer_3</th>\n",
       "      <th>answer_4</th>\n",
       "    </tr>\n",
       "  </thead>\n",
       "  <tbody>\n",
       "    <tr>\n",
       "      <th>0</th>\n",
       "      <td>0</td>\n",
       "      <td>data_original/DIV2K_valid_HR/0814.png</td>\n",
       "      <td>DIV2K_valid_HR</td>\n",
       "      <td>batch_req_MD1a7KMpzBVGHrZrHJgLRwUb</td>\n",
       "      <td>0</td>\n",
       "      <td>200</td>\n",
       "      <td>gpt-4o-2024-05-13</td>\n",
       "      <td>887</td>\n",
       "      <td>10</td>\n",
       "      <td>birds, airplane, fireworks, kite, moon.</td>\n",
       "      <td>birds</td>\n",
       "      <td>airplane</td>\n",
       "      <td>fireworks</td>\n",
       "      <td>kite</td>\n",
       "      <td>moon</td>\n",
       "    </tr>\n",
       "    <tr>\n",
       "      <th>1</th>\n",
       "      <td>1</td>\n",
       "      <td>data_original/DIV2K_valid_HR/0809.png</td>\n",
       "      <td>DIV2K_valid_HR</td>\n",
       "      <td>batch_req_S7ppgbwLxWGmCJnxXi2WMlsZ</td>\n",
       "      <td>1</td>\n",
       "      <td>200</td>\n",
       "      <td>gpt-4o-2024-05-13</td>\n",
       "      <td>887</td>\n",
       "      <td>12</td>\n",
       "      <td>Butterfly, sunglasses, bird, small flower, but...</td>\n",
       "      <td>butterfly</td>\n",
       "      <td>sunglasses</td>\n",
       "      <td>bird</td>\n",
       "      <td>small flower</td>\n",
       "      <td>butterfly</td>\n",
       "    </tr>\n",
       "  </tbody>\n",
       "</table>\n",
       "</div>"
      ],
      "text/plain": [
       "  custom_id                               img_path          source  \\\n",
       "0         0  data_original/DIV2K_valid_HR/0814.png  DIV2K_valid_HR   \n",
       "1         1  data_original/DIV2K_valid_HR/0809.png  DIV2K_valid_HR   \n",
       "\n",
       "                                   id custom_id  status_code  \\\n",
       "0  batch_req_MD1a7KMpzBVGHrZrHJgLRwUb         0          200   \n",
       "1  batch_req_S7ppgbwLxWGmCJnxXi2WMlsZ         1          200   \n",
       "\n",
       "               model  prompt_tokens  completion_tokens  \\\n",
       "0  gpt-4o-2024-05-13            887                 10   \n",
       "1  gpt-4o-2024-05-13            887                 12   \n",
       "\n",
       "                                              answer   answer_0    answer_1  \\\n",
       "0            birds, airplane, fireworks, kite, moon.      birds    airplane   \n",
       "1  Butterfly, sunglasses, bird, small flower, but...  butterfly  sunglasses   \n",
       "\n",
       "    answer_2      answer_3   answer_4  \n",
       "0  fireworks          kite       moon  \n",
       "1       bird  small flower  butterfly  "
      ]
     },
     "execution_count": 18,
     "metadata": {},
     "output_type": "execute_result"
    }
   ],
   "source": [
    "def parse_answer(text):\n",
    "    parsed_text = text.lower().split(', ')\n",
    "    if parsed_text[-1].endswith('.'):\n",
    "        parsed_text[-1] = parsed_text[-1][:-1]\n",
    "\n",
    "    return parsed_text\n",
    "\n",
    "name_mapping = lambda x: f'answer_{x % 5}'\n",
    "parsed_columns = df['answer'].apply(parse_answer)\n",
    "parsed_df = pd.DataFrame(parsed_columns.tolist(), columns=[name_mapping(i) for i in range(5)])\n",
    "for col in parsed_df.columns:\n",
    "    df[col] = parsed_df[col]\n",
    "\n",
    "input_df = pd.read_csv(\"new_selected_dataset_all.csv\")\n",
    "input_df[\"custom_id\"] = input_df.index\n",
    "df = input_df.join(df, on=\"custom_id\", how=\"inner\", lsuffix=\"_left\", rsuffix=\"_right\")\n",
    "columns_to_drop = [col for col in df.columns if col.endswith('_left')]\n",
    "df.drop(columns=columns_to_drop, inplace=True)\n",
    "df.columns = [col.replace('_right', '') for col in df.columns]\n",
    "\n",
    "# save_path = \"new_dataset/filled_dataframe/test_0_30_add.csv\"\n",
    "save_path = \"new_dataset/filled_dataframe/test_0_30_add_ver2.csv\"\n",
    "os.makedirs(Path(save_path).parent, exist_ok=True)\n",
    "df.to_csv(save_path, index=False)\n",
    "\n",
    "df.head(2)"
   ]
  },
  {
   "cell_type": "code",
   "execution_count": 30,
   "metadata": {},
   "outputs": [
    {
     "name": "stdout",
     "output_type": "stream",
     "text": [
      "DIV2K_valid_HR/0814.jpg\n",
      "DIV2K_valid_HR/0809.jpg\n",
      "Flickr2K/000031.jpg\n",
      "Flickr2K/000048.jpg\n",
      "Flickr2K/000149.jpg\n",
      "Flickr2K/000293.jpg\n",
      "Flickr2K/000298.jpg\n",
      "Flickr2K/000617.jpg\n",
      "Flickr2K/001139.jpg\n",
      "Flickr2K/001334.jpg\n",
      "Flickr2K/001366.jpg\n",
      "Flickr2K/001404.jpg\n",
      "Flickr2K/001583.jpg\n",
      "Flickr2K/001617.jpg\n",
      "Flickr2K/001683.jpg\n",
      "Flickr2K/001843.jpg\n",
      "Flickr2K/001857.jpg\n",
      "Flickr2K/001893.jpg\n",
      "Flickr2K/002038.jpg\n",
      "Flickr2K/002097.jpg\n",
      "Flickr2K/002243.jpg\n",
      "Flickr2K/002259.jpg\n",
      "Flickr2K/002277.jpg\n",
      "Flickr2K/002282.jpg\n",
      "Flickr2K/002302.jpg\n",
      "Flickr2K/002305.jpg\n",
      "Flickr2K/002544.jpg\n",
      "Flickr1024_val/0028_L.jpg\n",
      "HRWSI_val/65878_z98_GeneveBuste.jpg\n",
      "DIV2K_valid_HR/0806.jpg\n",
      "Created ZIP file: new_dataset/inspect/test_0_30.zip\n"
     ]
    }
   ],
   "source": [
    "from utils import zip_files\n",
    "\n",
    "save_path = \"new_dataset/inspect/test_0_30.zip\"\n",
    "os.makedirs(Path(save_path).parent, exist_ok=True)\n",
    "zip_files(df[\"img_path\"].to_list(), save_path)"
   ]
  }
 ],
 "metadata": {
  "kernelspec": {
   "display_name": "diff-spatial",
   "language": "python",
   "name": "python3"
  },
  "language_info": {
   "codemirror_mode": {
    "name": "ipython",
    "version": 3
   },
   "file_extension": ".py",
   "mimetype": "text/x-python",
   "name": "python",
   "nbconvert_exporter": "python",
   "pygments_lexer": "ipython3",
   "version": "3.10.12"
  }
 },
 "nbformat": 4,
 "nbformat_minor": 2
}
