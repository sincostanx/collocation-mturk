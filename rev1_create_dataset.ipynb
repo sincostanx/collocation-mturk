{
 "cells": [
  {
   "cell_type": "code",
   "execution_count": 7,
   "metadata": {},
   "outputs": [],
   "source": [
    "import pandas as pd\n",
    "import glob\n",
    "from pathlib import Path\n",
    "import os\n",
    "from natsort import natsorted\n",
    "from PIL import Image\n",
    "from utils import image_grid\n",
    "import random\n",
    "from imagededup.methods import PHash"
   ]
  },
  {
   "cell_type": "code",
   "execution_count": 3,
   "metadata": {},
   "outputs": [],
   "source": [
    "def parse_answer(text):\n",
    "    text = text.replace(\" \", \"\").lower()\n",
    "    if text == \"yes\":\n",
    "        return True\n",
    "    elif text == \"no\":\n",
    "        return False\n",
    "    else:\n",
    "        raise ValueError"
   ]
  },
  {
   "cell_type": "code",
   "execution_count": 28,
   "metadata": {},
   "outputs": [
    {
     "data": {
      "text/html": [
       "<div>\n",
       "<style scoped>\n",
       "    .dataframe tbody tr th:only-of-type {\n",
       "        vertical-align: middle;\n",
       "    }\n",
       "\n",
       "    .dataframe tbody tr th {\n",
       "        vertical-align: top;\n",
       "    }\n",
       "\n",
       "    .dataframe thead th {\n",
       "        text-align: right;\n",
       "    }\n",
       "</style>\n",
       "<table border=\"1\" class=\"dataframe\">\n",
       "  <thead>\n",
       "    <tr style=\"text-align: right;\">\n",
       "      <th></th>\n",
       "      <th>id</th>\n",
       "      <th>source</th>\n",
       "      <th>img_path</th>\n",
       "      <th>has_subject</th>\n",
       "      <th>is_abstract</th>\n",
       "      <th>is_birdeye_view</th>\n",
       "      <th>is_closeup_shot</th>\n",
       "      <th>is_macro_shot</th>\n",
       "      <th>looking_sky</th>\n",
       "    </tr>\n",
       "  </thead>\n",
       "  <tbody>\n",
       "    <tr>\n",
       "      <th>0</th>\n",
       "      <td>0</td>\n",
       "      <td>DIV2K_valid_HR</td>\n",
       "      <td>./data_preprocessed/DIV2K_valid_HR/0801.png</td>\n",
       "      <td>True</td>\n",
       "      <td>False</td>\n",
       "      <td>False</td>\n",
       "      <td>True</td>\n",
       "      <td>False</td>\n",
       "      <td>False</td>\n",
       "    </tr>\n",
       "    <tr>\n",
       "      <th>1</th>\n",
       "      <td>1</td>\n",
       "      <td>DIV2K_valid_HR</td>\n",
       "      <td>./data_preprocessed/DIV2K_valid_HR/0802.png</td>\n",
       "      <td>True</td>\n",
       "      <td>False</td>\n",
       "      <td>False</td>\n",
       "      <td>True</td>\n",
       "      <td>True</td>\n",
       "      <td>False</td>\n",
       "    </tr>\n",
       "    <tr>\n",
       "      <th>2</th>\n",
       "      <td>2</td>\n",
       "      <td>DIV2K_valid_HR</td>\n",
       "      <td>./data_preprocessed/DIV2K_valid_HR/0803.png</td>\n",
       "      <td>True</td>\n",
       "      <td>False</td>\n",
       "      <td>False</td>\n",
       "      <td>True</td>\n",
       "      <td>True</td>\n",
       "      <td>False</td>\n",
       "    </tr>\n",
       "    <tr>\n",
       "      <th>3</th>\n",
       "      <td>3</td>\n",
       "      <td>DIV2K_valid_HR</td>\n",
       "      <td>./data_preprocessed/DIV2K_valid_HR/0804.png</td>\n",
       "      <td>True</td>\n",
       "      <td>False</td>\n",
       "      <td>False</td>\n",
       "      <td>False</td>\n",
       "      <td>False</td>\n",
       "      <td>False</td>\n",
       "    </tr>\n",
       "    <tr>\n",
       "      <th>4</th>\n",
       "      <td>4</td>\n",
       "      <td>DIV2K_valid_HR</td>\n",
       "      <td>./data_preprocessed/DIV2K_valid_HR/0805.png</td>\n",
       "      <td>True</td>\n",
       "      <td>False</td>\n",
       "      <td>False</td>\n",
       "      <td>True</td>\n",
       "      <td>False</td>\n",
       "      <td>False</td>\n",
       "    </tr>\n",
       "  </tbody>\n",
       "</table>\n",
       "</div>"
      ],
      "text/plain": [
       "   id          source                                     img_path  \\\n",
       "0   0  DIV2K_valid_HR  ./data_preprocessed/DIV2K_valid_HR/0801.png   \n",
       "1   1  DIV2K_valid_HR  ./data_preprocessed/DIV2K_valid_HR/0802.png   \n",
       "2   2  DIV2K_valid_HR  ./data_preprocessed/DIV2K_valid_HR/0803.png   \n",
       "3   3  DIV2K_valid_HR  ./data_preprocessed/DIV2K_valid_HR/0804.png   \n",
       "4   4  DIV2K_valid_HR  ./data_preprocessed/DIV2K_valid_HR/0805.png   \n",
       "\n",
       "   has_subject  is_abstract  is_birdeye_view  is_closeup_shot  is_macro_shot  \\\n",
       "0         True        False            False             True          False   \n",
       "1         True        False            False             True           True   \n",
       "2         True        False            False             True           True   \n",
       "3         True        False            False            False          False   \n",
       "4         True        False            False             True          False   \n",
       "\n",
       "   looking_sky  \n",
       "0        False  \n",
       "1        False  \n",
       "2        False  \n",
       "3        False  \n",
       "4        False  "
      ]
     },
     "execution_count": 28,
     "metadata": {},
     "output_type": "execute_result"
    }
   ],
   "source": [
    "df1 = pd.read_csv(\"./llava_result1.csv\")\n",
    "df2 = pd.read_csv(\"./llava_result2.csv\")\n",
    "df = pd.concat([df1, df2])\n",
    "\n",
    "name_mapping = {\n",
    "    \"0\": \"has_subject\",\n",
    "    \"1\": \"is_abstract\",\n",
    "    \"2\": \"is_birdeye_view\",\n",
    "    \"3\": \"is_closeup_shot\",\n",
    "    \"4\": \"is_macro_shot\",\n",
    "    \"5\": \"looking_sky\",\n",
    "}\n",
    "\n",
    "df[\"img_path\"] = df[\"img_path\"].apply(lambda x: x.replace(\"collocation-mturk/\", \"./\"))\n",
    "for i in range(6):\n",
    "    df[name_mapping[str(i)]] = df[str(i)].apply(lambda x: parse_answer(x))\n",
    "    df = df.drop(str(i), axis=1)\n",
    "df.head()"
   ]
  },
  {
   "cell_type": "markdown",
   "metadata": {},
   "source": [
    "## get unique images"
   ]
  },
  {
   "cell_type": "code",
   "execution_count": 8,
   "metadata": {},
   "outputs": [
    {
     "name": "stderr",
     "output_type": "stream",
     "text": [
      "2024-07-22 04:04:40,317: INFO Start: Calculating hashes...\n"
     ]
    },
    {
     "name": "stdout",
     "output_type": "stream",
     "text": [
      "./data_preprocessed/DIV2K_valid_HR\n"
     ]
    },
    {
     "name": "stderr",
     "output_type": "stream",
     "text": [
      "100%|██████████| 100/100 [00:05<00:00, 19.60it/s]\n",
      "2024-07-22 04:04:46,453: INFO End: Calculating hashes!\n",
      "2024-07-22 04:04:46,492: INFO Start: Calculating hashes...\n"
     ]
    },
    {
     "name": "stdout",
     "output_type": "stream",
     "text": [
      "./data_preprocessed/Flickr2K\n"
     ]
    },
    {
     "name": "stderr",
     "output_type": "stream",
     "text": [
      "100%|██████████| 2650/2650 [02:51<00:00, 15.49it/s]  \n",
      "2024-07-22 04:07:38,635: INFO End: Calculating hashes!\n",
      "2024-07-22 04:07:38,641: INFO Start: Calculating hashes...\n"
     ]
    },
    {
     "name": "stdout",
     "output_type": "stream",
     "text": [
      "./data_preprocessed/Flickr1024_val\n"
     ]
    },
    {
     "name": "stderr",
     "output_type": "stream",
     "text": [
      "100%|██████████| 112/112 [00:06<00:00, 16.44it/s]\n",
      "2024-07-22 04:07:46,481: INFO End: Calculating hashes!\n",
      "2024-07-22 04:07:46,490: INFO Start: Calculating hashes...\n"
     ]
    },
    {
     "name": "stdout",
     "output_type": "stream",
     "text": [
      "./data_preprocessed/HRWSI_val\n"
     ]
    },
    {
     "name": "stderr",
     "output_type": "stream",
     "text": [
      "100%|██████████| 400/400 [00:27<00:00, 14.52it/s]\n",
      "2024-07-22 04:08:15,083: INFO End: Calculating hashes!\n"
     ]
    }
   ],
   "source": [
    "root = \"./data_preprocessed\"\n",
    "dirs = natsorted(list(glob.glob(os.path.join(root, \"*\"))))\n",
    "\n",
    "phasher = PHash()\n",
    "encodings = None\n",
    "for dir in dirs:\n",
    "    print(dir)\n",
    "    temp_encoding = phasher.encode_images(image_dir=dir)\n",
    "    temp_encoding = {os.path.join(dir, k): v for k, v in temp_encoding.items()}\n",
    "\n",
    "    if encodings is None:\n",
    "        encodings = temp_encoding\n",
    "    else:\n",
    "        encodings.update(temp_encoding)"
   ]
  },
  {
   "cell_type": "code",
   "execution_count": 9,
   "metadata": {},
   "outputs": [
    {
     "name": "stderr",
     "output_type": "stream",
     "text": [
      "/data2/worameth/DiffSpatial2/envs/diff-spatial/lib/python3.10/site-packages/imagededup/methods/hashing.py:317: RuntimeWarning: Parameter num_enc_workers has no effect since encodings are already provided\n",
      "  warnings.warn('Parameter num_enc_workers has no effect since encodings are already provided', RuntimeWarning)\n",
      "2024-07-22 04:10:29,301: INFO Start: Evaluating hamming distances for getting duplicates\n",
      "2024-07-22 04:10:29,303: INFO Start: Retrieving duplicates using Cython Brute force algorithm\n",
      "100%|██████████| 3262/3262 [00:00<00:00, 9690.90it/s]\n",
      "2024-07-22 04:10:30,702: INFO End: Retrieving duplicates using Cython Brute force algorithm\n",
      "2024-07-22 04:10:30,703: INFO End: Evaluating hamming distances for getting duplicates\n"
     ]
    },
    {
     "name": "stdout",
     "output_type": "stream",
     "text": [
      "3200\n",
      "3262\n"
     ]
    }
   ],
   "source": [
    "duplicates = phasher.find_duplicates(encoding_map=encodings)\n",
    "img_unique = []\n",
    "excluded = set()\n",
    "for k, v in duplicates.items():\n",
    "    if len(v) == 0:\n",
    "        img_unique.append(k)\n",
    "    elif k not in excluded:\n",
    "        excluded.update(set(v))\n",
    "        img_unique.append(k)\n",
    "\n",
    "print(len(img_unique))\n",
    "print(len(duplicates))"
   ]
  },
  {
   "cell_type": "code",
   "execution_count": 30,
   "metadata": {},
   "outputs": [
    {
     "data": {
      "text/plain": [
       "3200"
      ]
     },
     "execution_count": 30,
     "metadata": {},
     "output_type": "execute_result"
    }
   ],
   "source": [
    "unique_df = df[df[\"img_path\"].isin(img_unique)]\n",
    "len(unique_df)"
   ]
  },
  {
   "cell_type": "markdown",
   "metadata": {},
   "source": [
    "## filter and categorize"
   ]
  },
  {
   "cell_type": "code",
   "execution_count": 38,
   "metadata": {},
   "outputs": [
    {
     "data": {
      "text/html": [
       "<div>\n",
       "<style scoped>\n",
       "    .dataframe tbody tr th:only-of-type {\n",
       "        vertical-align: middle;\n",
       "    }\n",
       "\n",
       "    .dataframe tbody tr th {\n",
       "        vertical-align: top;\n",
       "    }\n",
       "\n",
       "    .dataframe thead th {\n",
       "        text-align: right;\n",
       "    }\n",
       "</style>\n",
       "<table border=\"1\" class=\"dataframe\">\n",
       "  <thead>\n",
       "    <tr style=\"text-align: right;\">\n",
       "      <th></th>\n",
       "      <th>id</th>\n",
       "      <th>source</th>\n",
       "      <th>img_path</th>\n",
       "      <th>has_subject</th>\n",
       "      <th>is_abstract</th>\n",
       "      <th>is_birdeye_view</th>\n",
       "      <th>is_closeup_shot</th>\n",
       "      <th>is_macro_shot</th>\n",
       "      <th>looking_sky</th>\n",
       "    </tr>\n",
       "  </thead>\n",
       "  <tbody>\n",
       "    <tr>\n",
       "      <th>0</th>\n",
       "      <td>0</td>\n",
       "      <td>DIV2K_valid_HR</td>\n",
       "      <td>./data_preprocessed/DIV2K_valid_HR/0801.png</td>\n",
       "      <td>True</td>\n",
       "      <td>False</td>\n",
       "      <td>False</td>\n",
       "      <td>True</td>\n",
       "      <td>False</td>\n",
       "      <td>False</td>\n",
       "    </tr>\n",
       "    <tr>\n",
       "      <th>1</th>\n",
       "      <td>3</td>\n",
       "      <td>DIV2K_valid_HR</td>\n",
       "      <td>./data_preprocessed/DIV2K_valid_HR/0804.png</td>\n",
       "      <td>True</td>\n",
       "      <td>False</td>\n",
       "      <td>False</td>\n",
       "      <td>False</td>\n",
       "      <td>False</td>\n",
       "      <td>False</td>\n",
       "    </tr>\n",
       "    <tr>\n",
       "      <th>2</th>\n",
       "      <td>4</td>\n",
       "      <td>DIV2K_valid_HR</td>\n",
       "      <td>./data_preprocessed/DIV2K_valid_HR/0805.png</td>\n",
       "      <td>True</td>\n",
       "      <td>False</td>\n",
       "      <td>False</td>\n",
       "      <td>True</td>\n",
       "      <td>False</td>\n",
       "      <td>False</td>\n",
       "    </tr>\n",
       "    <tr>\n",
       "      <th>3</th>\n",
       "      <td>5</td>\n",
       "      <td>DIV2K_valid_HR</td>\n",
       "      <td>./data_preprocessed/DIV2K_valid_HR/0806.png</td>\n",
       "      <td>True</td>\n",
       "      <td>False</td>\n",
       "      <td>False</td>\n",
       "      <td>False</td>\n",
       "      <td>False</td>\n",
       "      <td>False</td>\n",
       "    </tr>\n",
       "    <tr>\n",
       "      <th>4</th>\n",
       "      <td>6</td>\n",
       "      <td>DIV2K_valid_HR</td>\n",
       "      <td>./data_preprocessed/DIV2K_valid_HR/0807.png</td>\n",
       "      <td>True</td>\n",
       "      <td>False</td>\n",
       "      <td>False</td>\n",
       "      <td>False</td>\n",
       "      <td>False</td>\n",
       "      <td>False</td>\n",
       "    </tr>\n",
       "  </tbody>\n",
       "</table>\n",
       "</div>"
      ],
      "text/plain": [
       "   id          source                                     img_path  \\\n",
       "0   0  DIV2K_valid_HR  ./data_preprocessed/DIV2K_valid_HR/0801.png   \n",
       "1   3  DIV2K_valid_HR  ./data_preprocessed/DIV2K_valid_HR/0804.png   \n",
       "2   4  DIV2K_valid_HR  ./data_preprocessed/DIV2K_valid_HR/0805.png   \n",
       "3   5  DIV2K_valid_HR  ./data_preprocessed/DIV2K_valid_HR/0806.png   \n",
       "4   6  DIV2K_valid_HR  ./data_preprocessed/DIV2K_valid_HR/0807.png   \n",
       "\n",
       "   has_subject  is_abstract  is_birdeye_view  is_closeup_shot  is_macro_shot  \\\n",
       "0         True        False            False             True          False   \n",
       "1         True        False            False            False          False   \n",
       "2         True        False            False             True          False   \n",
       "3         True        False            False            False          False   \n",
       "4         True        False            False            False          False   \n",
       "\n",
       "   looking_sky  \n",
       "0        False  \n",
       "1        False  \n",
       "2        False  \n",
       "3        False  \n",
       "4        False  "
      ]
     },
     "execution_count": 38,
     "metadata": {},
     "output_type": "execute_result"
    }
   ],
   "source": [
    "mask = ~(\n",
    "    unique_df[\"is_abstract\"] |\n",
    "    unique_df[\"is_birdeye_view\"] |\n",
    "    unique_df[\"is_macro_shot\"] |\n",
    "    unique_df[\"looking_sky\"]\n",
    ")\n",
    "\n",
    "data_df = unique_df[mask].reset_index(drop=True)\n",
    "data_df.head()"
   ]
  },
  {
   "cell_type": "code",
   "execution_count": 45,
   "metadata": {},
   "outputs": [
    {
     "name": "stdout",
     "output_type": "stream",
     "text": [
      "140\n",
      "2667\n"
     ]
    }
   ],
   "source": [
    "small_data_df=data_df.sample(frac=0.05,random_state=0)\n",
    "big_data_df=data_df.drop(small_data_df.index)\n",
    "\n",
    "print(len(small_data_df))\n",
    "print(len(big_data_df))\n",
    "\n",
    "save_path = \"./dataset/rev1/small_dataset.csv\"\n",
    "os.makedirs(Path(save_path).parent, exist_ok=True)\n",
    "small_data_df.to_csv(save_path, index=False)\n",
    "\n",
    "save_path = \"./dataset/rev1/big_dataset.csv\"\n",
    "os.makedirs(Path(save_path).parent, exist_ok=True)\n",
    "big_data_df.to_csv(save_path, index=False)"
   ]
  },
  {
   "cell_type": "code",
   "execution_count": null,
   "metadata": {},
   "outputs": [],
   "source": [
    "small_data_df"
   ]
  }
 ],
 "metadata": {
  "kernelspec": {
   "display_name": "diff-spatial",
   "language": "python",
   "name": "python3"
  },
  "language_info": {
   "codemirror_mode": {
    "name": "ipython",
    "version": 3
   },
   "file_extension": ".py",
   "mimetype": "text/x-python",
   "name": "python",
   "nbconvert_exporter": "python",
   "pygments_lexer": "ipython3",
   "version": "3.10.12"
  }
 },
 "nbformat": 4,
 "nbformat_minor": 2
}
